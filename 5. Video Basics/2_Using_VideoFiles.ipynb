{
 "cells": [
  {
   "cell_type": "code",
   "execution_count": 9,
   "metadata": {},
   "outputs": [],
   "source": [
    "import cv2\n",
    "import time\n",
    "\n",
    "cap = cv2.VideoCapture('mysupervideo.mp4')\n",
    "\n",
    "if cap.isOpened() == False: #Used to check if there is any error with video file\n",
    "    print('Error loading video or file not found!')\n",
    "\n",
    "while cap.isOpened(): #If video file is opened properly then enter the loop\n",
    "    ret,frame = cap.read()\n",
    "    \n",
    "    if ret == True:\n",
    "        #Writer recorded the video on 20 FPS\n",
    "        time.sleep(1/20) #This is used just for display purpose only. If it is just for processing. Then this is not neeeded\n",
    "        \n",
    "        \n",
    "        \n",
    "        cv2.imshow('frame',frame)\n",
    "        \n",
    "        \n",
    "        if cv2.waitKey(2) & 0xFF == 27:  #this is used to end the video in between\n",
    "            break\n",
    "    else:   #if ret doesnt exist, then end the program\n",
    "        break\n",
    "\n",
    "cap.release()\n",
    "cv2.destroyAllWindows()\n",
    "        \n",
    "\n",
    "    "
   ]
  },
  {
   "cell_type": "code",
   "execution_count": null,
   "metadata": {},
   "outputs": [],
   "source": []
  }
 ],
 "metadata": {
  "kernelspec": {
   "display_name": "Python 3",
   "language": "python",
   "name": "python3"
  },
  "language_info": {
   "codemirror_mode": {
    "name": "ipython",
    "version": 3
   },
   "file_extension": ".py",
   "mimetype": "text/x-python",
   "name": "python",
   "nbconvert_exporter": "python",
   "pygments_lexer": "ipython3",
   "version": "3.6.6"
  }
 },
 "nbformat": 4,
 "nbformat_minor": 2
}

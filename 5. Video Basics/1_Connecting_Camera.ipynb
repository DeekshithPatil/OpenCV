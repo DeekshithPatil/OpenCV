{
 "cells": [
  {
   "cell_type": "code",
   "execution_count": 1,
   "metadata": {},
   "outputs": [],
   "source": [
    "import cv2\n",
    "\n",
    "cap = cv2.VideoCapture(0) #This command is used to capture images from default camera. \n",
    "\n",
    "width = int(cap.get(cv2.CAP_PROP_FRAME_WIDTH)) #Grab the default camera's width. It retruns a float value, therefore it is typecasted to int\n",
    "height = int(cap.get(cv2.CAP_PROP_FRAME_HEIGHT)) #Grab the default camera's width\n",
    "\n",
    "while True:\n",
    "    ret,frame = cap.read() #This command is used to capture images conitnuously. It returns a tuple\n",
    "    \n",
    "    gray = cv2.cvtColor(frame,cv2.COLOR_BGR2GRAY)\n",
    "    \n",
    "    cv2.imshow('frame',gray)\n",
    "    \n",
    "    if cv2.waitKey(3) & 0xFF == 27:\n",
    "        break\n",
    "\n",
    "\n",
    "cap.release()\n",
    "cv2.destroyAllWindows()\n",
    "\n"
   ]
  },
  {
   "cell_type": "code",
   "execution_count": 2,
   "metadata": {},
   "outputs": [],
   "source": [
    "import cv2\n",
    "\n",
    "cap = cv2.VideoCapture(0) #This command is used to capture images from default camera. \n",
    "\n",
    "width = int(cap.get(cv2.CAP_PROP_FRAME_WIDTH)) #Grab the default camera's width. It retruns a float value, therefore it is typecasted to int\n",
    "height = int(cap.get(cv2.CAP_PROP_FRAME_HEIGHT)) #Grab the default camera's width\n",
    "\n",
    "while True:\n",
    "    ret,frame = cap.read() #This command is used to capture images conitnuously. It returns a tuple\n",
    "    \n",
    "    cv2.imshow('frame',frame)\n",
    "    \n",
    "    if cv2.waitKey(3) & 0xFF == 27:\n",
    "        break\n",
    "\n",
    "\n",
    "cap.release()\n",
    "cv2.destroyAllWindows()\n",
    "\n"
   ]
  },
  {
   "cell_type": "code",
   "execution_count": 3,
   "metadata": {},
   "outputs": [],
   "source": [
    "import cv2\n",
    "\n",
    "cap = cv2.VideoCapture(0) #This command is used to capture images from default camera. \n",
    "\n",
    "width = int(cap.get(cv2.CAP_PROP_FRAME_WIDTH)) #Grab the default camera's width. It retruns a float value, therefore it is typecasted to int\n",
    "height = int(cap.get(cv2.CAP_PROP_FRAME_HEIGHT)) #Grab the default camera's width\n",
    "\n",
    "writer = cv2.VideoWriter('mysupervideo.mp4',cv2.VideoWriter_fourcc(*'DIVX'), 20,(width,height)) #First parameter specifies the name of the video file to be saved\n",
    "#Second parameter specifies the video codec that we are using to make the video. In Ubuntu, Fedora distribution of MacOS, then XVID is used.\n",
    "#For windows, DIVX is used. \n",
    "#The third parameter specifies Frames per second. \n",
    "\n",
    "while True:\n",
    "    ret,frame = cap.read() #This command is used to capture images conitnuously. It returns a tuple\n",
    "    \n",
    "    writer.write(frame)\n",
    "    \n",
    "    cv2.imshow('frame',frame)\n",
    "    \n",
    "    if cv2.waitKey(3) & 0xFF == 27:\n",
    "        break\n",
    "\n",
    "\n",
    "cap.release()\n",
    "writer.release()\n",
    "cv2.destroyAllWindows()\n",
    "\n"
   ]
  },
  {
   "cell_type": "code",
   "execution_count": null,
   "metadata": {},
   "outputs": [],
   "source": []
  }
 ],
 "metadata": {
  "kernelspec": {
   "display_name": "Python 3",
   "language": "python",
   "name": "python3"
  },
  "language_info": {
   "codemirror_mode": {
    "name": "ipython",
    "version": 3
   },
   "file_extension": ".py",
   "mimetype": "text/x-python",
   "name": "python",
   "nbconvert_exporter": "python",
   "pygments_lexer": "ipython3",
   "version": "3.6.6"
  }
 },
 "nbformat": 4,
 "nbformat_minor": 2
}

{
 "cells": [
  {
   "cell_type": "code",
   "execution_count": 1,
   "metadata": {},
   "outputs": [],
   "source": [
    "#Task: create a program that reads in a live stream from a camera on your computer\n",
    "#Then whenever you click the left mouse button down, create a blue circle around where you've clicked"
   ]
  },
  {
   "cell_type": "code",
   "execution_count": 11,
   "metadata": {},
   "outputs": [],
   "source": [
    "import cv2 \n",
    "\n",
    "def mouse_callback(event,x,y,flags,params):\n",
    "    global centr\n",
    "    \n",
    "    if event == cv2.EVENT_LBUTTONDOWN:\n",
    "        centr = (x,y)\n",
    "\n",
    "centr = (0,0)\n",
    "\n",
    "cap = cv2.VideoCapture(0) #Use default camera\n",
    "cv2.namedWindow('Test')\n",
    "cv2.setMouseCallback('Test',mouse_callback)\n",
    "\n",
    "while True:\n",
    "    ret,frame = cap.read()\n",
    "    \n",
    "    cv2.circle(frame,centr,20,(255,0,0),thickness=2)\n",
    "    \n",
    "    cv2.imshow('Test',frame)\n",
    "    \n",
    "    if cv2.waitKey(2) & 0xFF == 27:\n",
    "        break\n",
    "\n",
    "cap.release()\n",
    "cv2.destroyAllWindows()\n",
    "\n",
    "    "
   ]
  },
  {
   "cell_type": "code",
   "execution_count": null,
   "metadata": {},
   "outputs": [],
   "source": []
  }
 ],
 "metadata": {
  "kernelspec": {
   "display_name": "Python 3",
   "language": "python",
   "name": "python3"
  },
  "language_info": {
   "codemirror_mode": {
    "name": "ipython",
    "version": 3
   },
   "file_extension": ".py",
   "mimetype": "text/x-python",
   "name": "python",
   "nbconvert_exporter": "python",
   "pygments_lexer": "ipython3",
   "version": "3.6.6"
  }
 },
 "nbformat": 4,
 "nbformat_minor": 2
}

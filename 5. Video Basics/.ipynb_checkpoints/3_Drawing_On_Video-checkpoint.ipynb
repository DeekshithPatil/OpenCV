{
 "cells": [
  {
   "cell_type": "code",
   "execution_count": 3,
   "metadata": {},
   "outputs": [],
   "source": [
    "import cv2\n",
    "\n",
    "cap = cv2.VideoCapture(0)\n",
    "width = int(cap.get(cv2.CAP_PROP_FRAME_WIDTH))\n",
    "height = int(cap.get(cv2.CAP_PROP_FRAME_HEIGHT))\n",
    "\n",
    "#Top left corner\n",
    "x = width // 2 #used to convert division into integer result\n",
    "y = height // 2 \n",
    "\n",
    "#Width and height of the rectange\n",
    "w = width // 4\n",
    "h = height // 4\n",
    "\n",
    "#Bottom right corner: x + w, y+h\n",
    "\n",
    "while True:\n",
    "    ret,frame = cap.read() #Used to take pictures\n",
    "    \n",
    "    cv2.rectangle(frame,(x,y),(x+w,y+h),color=(0,0,255),thickness=4)\n",
    "    cv2.imshow('frame',frame)\n",
    "    \n",
    "    if cv2.waitKey(1) & 0xFF == 27:\n",
    "        break\n",
    "\n",
    "        \n",
    "cap.release()\n",
    "cv2.destroyAllWindows()\n"
   ]
  },
  {
   "cell_type": "code",
   "execution_count": 11,
   "metadata": {},
   "outputs": [
    {
     "name": "stdout",
     "output_type": "stream",
     "text": [
      "(224, 107)\n",
      "(444, 297)\n",
      "(178, 115)\n",
      "(434, 307)\n",
      "(526, 103)\n",
      "(235, 309)\n"
     ]
    }
   ],
   "source": [
    "import cv2\n",
    "\n",
    "\n",
    "\n",
    "#Callback function to draw a rectangle\n",
    "def draw_rectangle(event,x,y,flags,params):\n",
    "    global pt1,pt2,topLeft_clicked,bottomRight_clicked\n",
    "    \n",
    "    if event == cv2.EVENT_LBUTTONDOWN:\n",
    "        #Reset the Rectangle (It checks if the rectangle is already there)\n",
    "        if topLeft_clicked and bottomRight_clicked:\n",
    "            pt1 = 0\n",
    "            pt2 = 0\n",
    "            topLeft_clicked = False\n",
    "            bottomRight_clicked = False\n",
    "        \n",
    "        if topLeft_clicked == False:\n",
    "            pt1 = (x,y)\n",
    "            #print(pt1)\n",
    "            topLeft_clicked = True\n",
    "        \n",
    "        elif bottomRight_clicked == False:\n",
    "            pt2 = (x,y)\n",
    "            #print(pt2)\n",
    "            bottomRight_clicked = True\n",
    "        \n",
    "    \n",
    "\n",
    "#Global variables\n",
    "pt1 = (0,0) #Top left\n",
    "pt2 = (0,0) #Bottom right\n",
    "\n",
    "topLeft_clicked = False\n",
    "bottomRight_clicked = False\n",
    "\n",
    "#connect to fallback\n",
    "cap = cv2.VideoCapture(0)\n",
    "cv2.namedWindow('Test')\n",
    "cv2.setMouseCallback('Test',draw_rectangle)\n",
    "\n",
    "\n",
    "while True:\n",
    "    ret,frame = cap.read() #Used to take pictures\n",
    "    \n",
    "    #Draw a rectangle based on the global variables\n",
    "    if topLeft_clicked == True:\n",
    "        cv2.circle(frame,center=pt1,radius=5,color=(0,0,255),thickness=-1)\n",
    "    \n",
    "    if topLeft_clicked and bottomRight_clicked:\n",
    "        cv2.rectangle(frame,pt1,pt2,(0,0,255),3)\n",
    "    \n",
    "    cv2.imshow('Test',frame)\n",
    "    \n",
    "    if cv2.waitKey(1) & 0xFF == 27:\n",
    "        break\n",
    "\n",
    "        \n",
    "cap.release()\n",
    "cv2.destroyAllWindows()\n"
   ]
  },
  {
   "cell_type": "code",
   "execution_count": null,
   "metadata": {},
   "outputs": [],
   "source": []
  }
 ],
 "metadata": {
  "kernelspec": {
   "display_name": "Python 3",
   "language": "python",
   "name": "python3"
  },
  "language_info": {
   "codemirror_mode": {
    "name": "ipython",
    "version": 3
   },
   "file_extension": ".py",
   "mimetype": "text/x-python",
   "name": "python",
   "nbconvert_exporter": "python",
   "pygments_lexer": "ipython3",
   "version": "3.6.6"
  }
 },
 "nbformat": 4,
 "nbformat_minor": 2
}
